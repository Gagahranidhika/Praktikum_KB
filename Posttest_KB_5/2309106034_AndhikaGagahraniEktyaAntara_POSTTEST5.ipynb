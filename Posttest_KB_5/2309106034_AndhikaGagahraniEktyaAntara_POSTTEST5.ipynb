{
 "cells": [
  {
   "cell_type": "markdown",
   "id": "8c9bb5cd",
   "metadata": {},
   "source": [
    "# Posttest 5 KB: Model Deep Learning untuk Prediksi Angka (Digits)\n",
    "\n",
    "Nama: Andhika Gagahrani Ektya Antara\n",
    "|| NIM: 2309106034\n",
    "\n",
    "---"
   ]
  },
  {
   "cell_type": "markdown",
   "id": "7408ccac",
   "metadata": {},
   "source": [
    "## 1. Import Library\n",
    "\n",
    "Pertama,  mengimpor semua library yang diperlukan."
   ]
  },
  {
   "cell_type": "code",
   "execution_count": 11,
   "id": "7ac706a1",
   "metadata": {},
   "outputs": [],
   "source": [
    "import pandas as pd\n",
    "import numpy as np\n",
    "import tensorflow as tf\n",
    "from tensorflow.keras.models import Sequential\n",
    "from tensorflow.keras.layers import Dense, Input, Dropout\n",
    "from sklearn.model_selection import train_test_split\n",
    "from sklearn.preprocessing import StandardScaler\n",
    "import matplotlib.pyplot as plt"
   ]
  },
  {
   "cell_type": "markdown",
   "id": "30aab7a9",
   "metadata": {},
   "source": [
    "## Alasan Pergantian Dataset\n",
    "\n",
    "Dataset awal yang digunakan adalah `Employee Satisfaction Index.csv`. Namun, setelah melalui lebih dari 10 upaya *hyperparameter tuning* (mengubah arsitektur, menambah `Dropout` (0.2-0.5), dan `L2 Regularization` (0.001-0.01)), model secara konsisten gagal memenuhi kriteria Posttest.\n",
    "\n",
    "Masalah yang ditemui adalah:\n",
    "1.  **Overfitting Parah:** Saat menggunakan arsitektur yang cukup kompleks (misal: `128, 64`) tanpa regularisasi, model langsung mengalami *overfitting* parah (Akurasi Latih: 97%, Akurasi Validasi: 59%).\n",
    "2.  **Underfitting Parah:** Saat regularisasi (Dropout/L2) ditambahkan untuk mengatasi *overfitting*, model langsung mengalami *underfitting* (Akurasi Latih & Validasi ~50-60%), menunjukkan bahwa \"rem\" terlalu kuat dan model tidak bisa belajar.\n",
    "\n",
    "Ini mengindikasikan bahwa fitur-fitur dalam dataset `Employee Satisfaction` kemungkinan **tidak cukup prediktif** atau **terlalu *noisy*** untuk digeneralisasi ke data baru dengan model deep learning sederhana.\n",
    "\n",
    "**Oleh karena itu, untuk dapat memenuhi target Posttest 5 (Akurasi Latih > 70% dan Validasi > 70%), dataset diganti menjadi `load_digits` dari `sklearn`, yang merupakan dataset bersih dan terstruktur yang terbukti dapat dipelajari.**"
   ]
  },
  {
   "cell_type": "markdown",
   "id": "92ba9852",
   "metadata": {},
   "source": [
    "## 2. Memuat dan Memeriksa Dataset\n",
    "\n",
    "Kita akan memuat dataset `load_digits` dari `sklearn`. Dataset ini berisi gambar 8x8 piksel dari angka tulisan tangan (0-9), yang diratakan menjadi 64 fitur."
   ]
  },
  {
   "cell_type": "code",
   "execution_count": 7,
   "id": "7289adda",
   "metadata": {},
   "outputs": [
    {
     "name": "stdout",
     "output_type": "stream",
     "text": [
      "--- Informasi Dataset Digits ---\n",
      "Bentuk data X: (1797, 64)\n",
      "Bentuk data y: (1797,)\n",
      "Jumlah kelas unik: 10\n",
      "\n",
      "--- Contoh 5 Baris Data (df.head()) ---\n",
      "      0    1     2     3     4     5     6    7    8    9  ...   55   56   57  \\\n",
      "0   0.0  0.0   5.0  13.0   9.0   1.0   0.0  0.0  0.0  0.0  ...  0.0  0.0  0.0   \n",
      "1   0.0  0.0   0.0  12.0  13.0   5.0   0.0  0.0  0.0  0.0  ...  0.0  0.0  0.0   \n",
      "2   0.0  0.0   0.0   4.0  15.0  12.0   0.0  0.0  0.0  0.0  ...  0.0  0.0  0.0   \n",
      "3   0.0  0.0   7.0  15.0  13.0   1.0   0.0  0.0  0.0  8.0  ...  0.0  0.0  0.0   \n",
      "4   0.0  0.0   0.0   1.0  11.0   0.0   0.0  0.0  0.0  0.0  ...  0.0  0.0  0.0   \n",
      "5   0.0  0.0  12.0  10.0   0.0   0.0   0.0  0.0  0.0  0.0  ...  0.0  0.0  0.0   \n",
      "6   0.0  0.0   0.0  12.0  13.0   0.0   0.0  0.0  0.0  0.0  ...  0.0  0.0  0.0   \n",
      "7   0.0  0.0   7.0   8.0  13.0  16.0  15.0  1.0  0.0  0.0  ...  0.0  0.0  0.0   \n",
      "8   0.0  0.0   9.0  14.0   8.0   1.0   0.0  0.0  0.0  0.0  ...  0.0  0.0  0.0   \n",
      "9   0.0  0.0  11.0  12.0   0.0   0.0   0.0  0.0  0.0  2.0  ...  0.0  0.0  0.0   \n",
      "10  0.0  0.0   1.0   9.0  15.0  11.0   0.0  0.0  0.0  0.0  ...  0.0  0.0  0.0   \n",
      "11  0.0  0.0   0.0   0.0  14.0  13.0   1.0  0.0  0.0  0.0  ...  0.0  0.0  0.0   \n",
      "12  0.0  0.0   5.0  12.0   1.0   0.0   0.0  0.0  0.0  0.0  ...  2.0  0.0  0.0   \n",
      "13  0.0  2.0   9.0  15.0  14.0   9.0   3.0  0.0  0.0  4.0  ...  0.0  0.0  2.0   \n",
      "14  0.0  0.0   0.0   8.0  15.0   1.0   0.0  0.0  0.0  0.0  ...  0.0  0.0  0.0   \n",
      "\n",
      "      58    59    60    61    62   63  target  \n",
      "0    6.0  13.0  10.0   0.0   0.0  0.0       0  \n",
      "1    0.0  11.0  16.0  10.0   0.0  0.0       1  \n",
      "2    0.0   3.0  11.0  16.0   9.0  0.0       2  \n",
      "3    7.0  13.0  13.0   9.0   0.0  0.0       3  \n",
      "4    0.0   2.0  16.0   4.0   0.0  0.0       4  \n",
      "5    9.0  16.0  16.0  10.0   0.0  0.0       5  \n",
      "6    1.0   9.0  15.0  11.0   3.0  0.0       6  \n",
      "7   13.0   5.0   0.0   0.0   0.0  0.0       7  \n",
      "8   11.0  16.0  15.0  11.0   1.0  0.0       8  \n",
      "9    9.0  12.0  13.0   3.0   0.0  0.0       9  \n",
      "10   1.0  10.0  13.0   3.0   0.0  0.0       0  \n",
      "11   0.0   1.0  13.0  16.0   1.0  0.0       1  \n",
      "12   3.0  11.0   8.0  13.0  12.0  4.0       2  \n",
      "13  12.0  12.0  13.0  11.0   0.0  0.0       3  \n",
      "14   0.0  10.0  15.0   4.0   0.0  0.0       4  \n",
      "\n",
      "[15 rows x 65 columns]\n"
     ]
    }
   ],
   "source": [
    "from sklearn.datasets import load_digits\n",
    "\n",
    "# 1. Muat dataset\n",
    "data = load_digits()\n",
    "X = data.data\n",
    "y = data.target\n",
    "\n",
    "print(\"--- Informasi Dataset Digits ---\")\n",
    "print(f\"Bentuk data X: {X.shape}\")\n",
    "print(f\"Bentuk data y: {y.shape}\")\n",
    "print(f\"Jumlah kelas unik: {len(np.unique(y))}\")\n",
    "\n",
    "#Tampilkan sebagai dataframe \n",
    "df_display = pd.DataFrame(data.data)\n",
    "df_display['target'] = data.target\n",
    "print(\"\\n--- Contoh 5 Baris Data (df.head()) ---\")\n",
    "print(df_display.head(15))"
   ]
  },
  {
   "cell_type": "markdown",
   "id": "5d46df43",
   "metadata": {},
   "source": [
    "## 3. Preprocessing Data\n",
    "\n",
    "Karena semua fitur sudah numerik (nilai piksel), tidak perlu *OneHotEncoder* dan hanya perlu *StandardScaler* untuk menormalkan nilai piksel dan membagi data."
   ]
  },
  {
   "cell_type": "code",
   "execution_count": 3,
   "id": "469f8312",
   "metadata": {},
   "outputs": [
    {
     "name": "stdout",
     "output_type": "stream",
     "text": [
      "\n",
      "Bentuk data latih (X_train): (1437, 64)\n",
      "Bentuk data validasi (X_val): (360, 64)\n"
     ]
    }
   ],
   "source": [
    "# 1. Scaling Fitur (X)\n",
    "# Semua fitur sudah numerik, jadi hanya perlu scaling\n",
    "scaler = StandardScaler()\n",
    "X_scaled = scaler.fit_transform(X)\n",
    "\n",
    "# 2. Pemisahan Data\n",
    "# 80% train, 20% validation\n",
    "X_train_processed, X_val_processed, y_train, y_val = train_test_split(\n",
    "    X_scaled, y, test_size=0.2, random_state=42\n",
    ")\n",
    "\n",
    "print(f\"\\nBentuk data latih (X_train): {X_train_processed.shape}\")\n",
    "print(f\"Bentuk data validasi (X_val): {X_val_processed.shape}\")"
   ]
  },
  {
   "cell_type": "markdown",
   "id": "453f4e78",
   "metadata": {},
   "source": [
    "## 4. Membangun Model Deep Learning Sederhana\n",
    "\n",
    "Karena masalah **klasifikasi multiclass** (10 kelas, yaitu angka 0-9), perlu mengubah 2 hal:\n",
    "1.  **Layer Output:** Harus memiliki **10 neuron** dan aktivasi **`softmax`**.\n",
    "2.  **Loss Function:** menggunakan **`sparse_categorical_crossentropy`**."
   ]
  },
  {
   "cell_type": "code",
   "execution_count": 10,
   "id": "0779421b",
   "metadata": {},
   "outputs": [
    {
     "data": {
      "text/html": [
       "<pre style=\"white-space:pre;overflow-x:auto;line-height:normal;font-family:Menlo,'DejaVu Sans Mono',consolas,'Courier New',monospace\"><span style=\"font-weight: bold\">Model: \"sequential_1\"</span>\n",
       "</pre>\n"
      ],
      "text/plain": [
       "\u001b[1mModel: \"sequential_1\"\u001b[0m\n"
      ]
     },
     "metadata": {},
     "output_type": "display_data"
    },
    {
     "data": {
      "text/html": [
       "<pre style=\"white-space:pre;overflow-x:auto;line-height:normal;font-family:Menlo,'DejaVu Sans Mono',consolas,'Courier New',monospace\">┏━━━━━━━━━━━━━━━━━━━━━━━━━━━━━━━━━━━━━━┳━━━━━━━━━━━━━━━━━━━━━━━━━━━━━┳━━━━━━━━━━━━━━━━━┓\n",
       "┃<span style=\"font-weight: bold\"> Layer (type)                         </span>┃<span style=\"font-weight: bold\"> Output Shape                </span>┃<span style=\"font-weight: bold\">         Param # </span>┃\n",
       "┡━━━━━━━━━━━━━━━━━━━━━━━━━━━━━━━━━━━━━━╇━━━━━━━━━━━━━━━━━━━━━━━━━━━━━╇━━━━━━━━━━━━━━━━━┩\n",
       "│ dense_3 (<span style=\"color: #0087ff; text-decoration-color: #0087ff\">Dense</span>)                      │ (<span style=\"color: #00d7ff; text-decoration-color: #00d7ff\">None</span>, <span style=\"color: #00af00; text-decoration-color: #00af00\">128</span>)                 │           <span style=\"color: #00af00; text-decoration-color: #00af00\">8,320</span> │\n",
       "├──────────────────────────────────────┼─────────────────────────────┼─────────────────┤\n",
       "│ dropout_1 (<span style=\"color: #0087ff; text-decoration-color: #0087ff\">Dropout</span>)                  │ (<span style=\"color: #00d7ff; text-decoration-color: #00d7ff\">None</span>, <span style=\"color: #00af00; text-decoration-color: #00af00\">128</span>)                 │               <span style=\"color: #00af00; text-decoration-color: #00af00\">0</span> │\n",
       "├──────────────────────────────────────┼─────────────────────────────┼─────────────────┤\n",
       "│ dense_4 (<span style=\"color: #0087ff; text-decoration-color: #0087ff\">Dense</span>)                      │ (<span style=\"color: #00d7ff; text-decoration-color: #00d7ff\">None</span>, <span style=\"color: #00af00; text-decoration-color: #00af00\">64</span>)                  │           <span style=\"color: #00af00; text-decoration-color: #00af00\">8,256</span> │\n",
       "├──────────────────────────────────────┼─────────────────────────────┼─────────────────┤\n",
       "│ dense_5 (<span style=\"color: #0087ff; text-decoration-color: #0087ff\">Dense</span>)                      │ (<span style=\"color: #00d7ff; text-decoration-color: #00d7ff\">None</span>, <span style=\"color: #00af00; text-decoration-color: #00af00\">10</span>)                  │             <span style=\"color: #00af00; text-decoration-color: #00af00\">650</span> │\n",
       "└──────────────────────────────────────┴─────────────────────────────┴─────────────────┘\n",
       "</pre>\n"
      ],
      "text/plain": [
       "┏━━━━━━━━━━━━━━━━━━━━━━━━━━━━━━━━━━━━━━┳━━━━━━━━━━━━━━━━━━━━━━━━━━━━━┳━━━━━━━━━━━━━━━━━┓\n",
       "┃\u001b[1m \u001b[0m\u001b[1mLayer (type)                        \u001b[0m\u001b[1m \u001b[0m┃\u001b[1m \u001b[0m\u001b[1mOutput Shape               \u001b[0m\u001b[1m \u001b[0m┃\u001b[1m \u001b[0m\u001b[1m        Param #\u001b[0m\u001b[1m \u001b[0m┃\n",
       "┡━━━━━━━━━━━━━━━━━━━━━━━━━━━━━━━━━━━━━━╇━━━━━━━━━━━━━━━━━━━━━━━━━━━━━╇━━━━━━━━━━━━━━━━━┩\n",
       "│ dense_3 (\u001b[38;5;33mDense\u001b[0m)                      │ (\u001b[38;5;45mNone\u001b[0m, \u001b[38;5;34m128\u001b[0m)                 │           \u001b[38;5;34m8,320\u001b[0m │\n",
       "├──────────────────────────────────────┼─────────────────────────────┼─────────────────┤\n",
       "│ dropout_1 (\u001b[38;5;33mDropout\u001b[0m)                  │ (\u001b[38;5;45mNone\u001b[0m, \u001b[38;5;34m128\u001b[0m)                 │               \u001b[38;5;34m0\u001b[0m │\n",
       "├──────────────────────────────────────┼─────────────────────────────┼─────────────────┤\n",
       "│ dense_4 (\u001b[38;5;33mDense\u001b[0m)                      │ (\u001b[38;5;45mNone\u001b[0m, \u001b[38;5;34m64\u001b[0m)                  │           \u001b[38;5;34m8,256\u001b[0m │\n",
       "├──────────────────────────────────────┼─────────────────────────────┼─────────────────┤\n",
       "│ dense_5 (\u001b[38;5;33mDense\u001b[0m)                      │ (\u001b[38;5;45mNone\u001b[0m, \u001b[38;5;34m10\u001b[0m)                  │             \u001b[38;5;34m650\u001b[0m │\n",
       "└──────────────────────────────────────┴─────────────────────────────┴─────────────────┘\n"
      ]
     },
     "metadata": {},
     "output_type": "display_data"
    },
    {
     "data": {
      "text/html": [
       "<pre style=\"white-space:pre;overflow-x:auto;line-height:normal;font-family:Menlo,'DejaVu Sans Mono',consolas,'Courier New',monospace\"><span style=\"font-weight: bold\"> Total params: </span><span style=\"color: #00af00; text-decoration-color: #00af00\">17,226</span> (67.29 KB)\n",
       "</pre>\n"
      ],
      "text/plain": [
       "\u001b[1m Total params: \u001b[0m\u001b[38;5;34m17,226\u001b[0m (67.29 KB)\n"
      ]
     },
     "metadata": {},
     "output_type": "display_data"
    },
    {
     "data": {
      "text/html": [
       "<pre style=\"white-space:pre;overflow-x:auto;line-height:normal;font-family:Menlo,'DejaVu Sans Mono',consolas,'Courier New',monospace\"><span style=\"font-weight: bold\"> Trainable params: </span><span style=\"color: #00af00; text-decoration-color: #00af00\">17,226</span> (67.29 KB)\n",
       "</pre>\n"
      ],
      "text/plain": [
       "\u001b[1m Trainable params: \u001b[0m\u001b[38;5;34m17,226\u001b[0m (67.29 KB)\n"
      ]
     },
     "metadata": {},
     "output_type": "display_data"
    },
    {
     "data": {
      "text/html": [
       "<pre style=\"white-space:pre;overflow-x:auto;line-height:normal;font-family:Menlo,'DejaVu Sans Mono',consolas,'Courier New',monospace\"><span style=\"font-weight: bold\"> Non-trainable params: </span><span style=\"color: #00af00; text-decoration-color: #00af00\">0</span> (0.00 B)\n",
       "</pre>\n"
      ],
      "text/plain": [
       "\u001b[1m Non-trainable params: \u001b[0m\u001b[38;5;34m0\u001b[0m (0.00 B)\n"
      ]
     },
     "metadata": {},
     "output_type": "display_data"
    }
   ],
   "source": [
    "# Mendapatkan jumlah fitur setelah preprocessing\n",
    "input_shape = X_train_processed.shape[1] # Ini akan 64\n",
    "# Tentukan jumlah kelas (target 0-9)\n",
    "num_classes = 10 \n",
    "\n",
    "# 3. Gunakan Sequential Model\n",
    "model = Sequential()\n",
    "\n",
    "# 4. Tambahkan Input layer\n",
    "model.add(Input(shape=(input_shape,))) \n",
    "\n",
    "# Arsitektur yang kuat\n",
    "model.add(Dense(128, activation='relu'))\n",
    "# Dropout ringan (0.2)\n",
    "model.add(Dropout(0.2)) \n",
    "model.add(Dense(64, activation='relu'))\n",
    "\n",
    "# Output Layer \n",
    "model.add(Dense(num_classes, activation='softmax')) # 10 neuron, 'softmax'\n",
    "\n",
    "# Compile model\n",
    "model.compile(optimizer='adam',\n",
    "              loss='sparse_categorical_crossentropy', # Ganti loss\n",
    "              metrics=['accuracy'])\n",
    "\n",
    "# Tampilkan arsitektur model\n",
    "model.summary()"
   ]
  },
  {
   "cell_type": "markdown",
   "id": "fde373c6-a49b-43ec-96da-6e2239bcbee6",
   "metadata": {},
   "source": [
    "**1. dense_3 (Dense)** - Layer Tersembunyi Pertama\n",
    "Output Shape: (None, 128)\n",
    "Ini adalah hidden layer pertama dengan 128 neuron. Ini adalah \"otak\" utama yang pertama kali menerima 64 fitur piksel dan mulai mencari pola-pola kompleks.\n",
    "Parameter (8,320): Ini adalah jumlah \"tombol\" (weights & bias) yang bisa dipelajari. Dihitung dari: (64 fitur input + 1 bias) * 128 neuron = 8,320.\n",
    "\n",
    "**2. dropout_1 (Dropout)**\n",
    "Output Shape: (None, 128)\n",
    "Ini adalah layer regularisasi. Fungsinya adalah sebagai \"rem\" untuk mencegah overfitting. Selama pelatihan, layer ini akan mematikan beberapa dari 128 neuron secara acak (0%-nya).\n",
    "Parameter (0): Layer ini tidak mempelajari apa pun, ia hanya menerapkan aturan.\n",
    "\n",
    "**3. dense_4 (Dense)** - Layer Tersembunyi Kedua\n",
    "Output Shape: (None, 64)\n",
    "Ini adalah hidden layer kedua dengan 64 neuron. Layer ini mengambil pola yang sudah diproses oleh 128 neuron sebelumnya dan mengolahnya lebih lanjut.\n",
    "Parameter (8,256): Dihitung dari: (128 input dari layer sebelumnya + 1 bias) * 64 neuron = 8,256.\n",
    "\n",
    "**4. dense_5 (Dense)** - Layer Output\n",
    "Output Shape: (None, 10)\n",
    "Ini adalah layer terakhir. Bentuk output 10 karena memiliki 10 kelas (angka 0-9). Layer ini akan menghasilkan 10 probabilitas (karena  menggunakan softmax) yang memberi tahu \"seberapa yakin\" model ini pada setiap angka.\n",
    "Parameter (650): Dihitung dari: (64 input dari layer sebelumnya + 1 bias) * 10 neuron = 650."
   ]
  },
  {
   "cell_type": "markdown",
   "id": "ab5fdae2",
   "metadata": {},
   "source": [
    "## 5. Melatih Model\n",
    "\n",
    "EarlyStopping` akan membantu kita mendapatkan model terbaik tanpa *overfitting*."
   ]
  },
  {
   "cell_type": "code",
   "execution_count": 5,
   "id": "af5cb7cb",
   "metadata": {},
   "outputs": [
    {
     "name": "stdout",
     "output_type": "stream",
     "text": [
      "Epoch 1/50\n",
      "\u001b[1m45/45\u001b[0m \u001b[32m━━━━━━━━━━━━━━━━━━━━\u001b[0m\u001b[37m\u001b[0m \u001b[1m1s\u001b[0m 7ms/step - accuracy: 0.5581 - loss: 1.5099 - val_accuracy: 0.8417 - val_loss: 0.7220\n",
      "Epoch 2/50\n",
      "\u001b[1m45/45\u001b[0m \u001b[32m━━━━━━━━━━━━━━━━━━━━\u001b[0m\u001b[37m\u001b[0m \u001b[1m0s\u001b[0m 3ms/step - accuracy: 0.8650 - loss: 0.5414 - val_accuracy: 0.9333 - val_loss: 0.3016\n",
      "Epoch 3/50\n",
      "\u001b[1m45/45\u001b[0m \u001b[32m━━━━━━━━━━━━━━━━━━━━\u001b[0m\u001b[37m\u001b[0m \u001b[1m0s\u001b[0m 4ms/step - accuracy: 0.9353 - loss: 0.2810 - val_accuracy: 0.9444 - val_loss: 0.1852\n",
      "Epoch 4/50\n",
      "\u001b[1m45/45\u001b[0m \u001b[32m━━━━━━━━━━━━━━━━━━━━\u001b[0m\u001b[37m\u001b[0m \u001b[1m0s\u001b[0m 3ms/step - accuracy: 0.9555 - loss: 0.1812 - val_accuracy: 0.9667 - val_loss: 0.1356\n",
      "Epoch 5/50\n",
      "\u001b[1m45/45\u001b[0m \u001b[32m━━━━━━━━━━━━━━━━━━━━\u001b[0m\u001b[37m\u001b[0m \u001b[1m0s\u001b[0m 3ms/step - accuracy: 0.9708 - loss: 0.1290 - val_accuracy: 0.9694 - val_loss: 0.1135\n",
      "Epoch 6/50\n",
      "\u001b[1m45/45\u001b[0m \u001b[32m━━━━━━━━━━━━━━━━━━━━\u001b[0m\u001b[37m\u001b[0m \u001b[1m0s\u001b[0m 3ms/step - accuracy: 0.9784 - loss: 0.0950 - val_accuracy: 0.9722 - val_loss: 0.1031\n",
      "Epoch 7/50\n",
      "\u001b[1m45/45\u001b[0m \u001b[32m━━━━━━━━━━━━━━━━━━━━\u001b[0m\u001b[37m\u001b[0m \u001b[1m0s\u001b[0m 3ms/step - accuracy: 0.9812 - loss: 0.0781 - val_accuracy: 0.9694 - val_loss: 0.0960\n",
      "Epoch 8/50\n",
      "\u001b[1m45/45\u001b[0m \u001b[32m━━━━━━━━━━━━━━━━━━━━\u001b[0m\u001b[37m\u001b[0m \u001b[1m0s\u001b[0m 3ms/step - accuracy: 0.9889 - loss: 0.0609 - val_accuracy: 0.9750 - val_loss: 0.0899\n",
      "Epoch 9/50\n",
      "\u001b[1m45/45\u001b[0m \u001b[32m━━━━━━━━━━━━━━━━━━━━\u001b[0m\u001b[37m\u001b[0m \u001b[1m0s\u001b[0m 3ms/step - accuracy: 0.9903 - loss: 0.0487 - val_accuracy: 0.9778 - val_loss: 0.0883\n",
      "Epoch 10/50\n",
      "\u001b[1m45/45\u001b[0m \u001b[32m━━━━━━━━━━━━━━━━━━━━\u001b[0m\u001b[37m\u001b[0m \u001b[1m0s\u001b[0m 4ms/step - accuracy: 0.9910 - loss: 0.0457 - val_accuracy: 0.9694 - val_loss: 0.0908\n",
      "Epoch 11/50\n",
      "\u001b[1m45/45\u001b[0m \u001b[32m━━━━━━━━━━━━━━━━━━━━\u001b[0m\u001b[37m\u001b[0m \u001b[1m0s\u001b[0m 4ms/step - accuracy: 0.9910 - loss: 0.0432 - val_accuracy: 0.9778 - val_loss: 0.0874\n",
      "Epoch 12/50\n",
      "\u001b[1m45/45\u001b[0m \u001b[32m━━━━━━━━━━━━━━━━━━━━\u001b[0m\u001b[37m\u001b[0m \u001b[1m0s\u001b[0m 3ms/step - accuracy: 0.9965 - loss: 0.0309 - val_accuracy: 0.9778 - val_loss: 0.0880\n",
      "Epoch 13/50\n",
      "\u001b[1m45/45\u001b[0m \u001b[32m━━━━━━━━━━━━━━━━━━━━\u001b[0m\u001b[37m\u001b[0m \u001b[1m0s\u001b[0m 3ms/step - accuracy: 0.9930 - loss: 0.0311 - val_accuracy: 0.9778 - val_loss: 0.0868\n",
      "Epoch 14/50\n",
      "\u001b[1m45/45\u001b[0m \u001b[32m━━━━━━━━━━━━━━━━━━━━\u001b[0m\u001b[37m\u001b[0m \u001b[1m0s\u001b[0m 4ms/step - accuracy: 0.9937 - loss: 0.0267 - val_accuracy: 0.9750 - val_loss: 0.0879\n",
      "Epoch 15/50\n",
      "\u001b[1m45/45\u001b[0m \u001b[32m━━━━━━━━━━━━━━━━━━━━\u001b[0m\u001b[37m\u001b[0m \u001b[1m0s\u001b[0m 3ms/step - accuracy: 0.9937 - loss: 0.0253 - val_accuracy: 0.9750 - val_loss: 0.0854\n",
      "Epoch 16/50\n",
      "\u001b[1m45/45\u001b[0m \u001b[32m━━━━━━━━━━━━━━━━━━━━\u001b[0m\u001b[37m\u001b[0m \u001b[1m0s\u001b[0m 3ms/step - accuracy: 0.9958 - loss: 0.0219 - val_accuracy: 0.9806 - val_loss: 0.0832\n",
      "Epoch 17/50\n",
      "\u001b[1m45/45\u001b[0m \u001b[32m━━━━━━━━━━━━━━━━━━━━\u001b[0m\u001b[37m\u001b[0m \u001b[1m0s\u001b[0m 4ms/step - accuracy: 0.9993 - loss: 0.0153 - val_accuracy: 0.9778 - val_loss: 0.0846\n",
      "Epoch 18/50\n",
      "\u001b[1m45/45\u001b[0m \u001b[32m━━━━━━━━━━━━━━━━━━━━\u001b[0m\u001b[37m\u001b[0m \u001b[1m0s\u001b[0m 3ms/step - accuracy: 0.9972 - loss: 0.0165 - val_accuracy: 0.9778 - val_loss: 0.0801\n",
      "Epoch 19/50\n",
      "\u001b[1m45/45\u001b[0m \u001b[32m━━━━━━━━━━━━━━━━━━━━\u001b[0m\u001b[37m\u001b[0m \u001b[1m0s\u001b[0m 3ms/step - accuracy: 0.9986 - loss: 0.0140 - val_accuracy: 0.9833 - val_loss: 0.0829\n",
      "Epoch 20/50\n",
      "\u001b[1m45/45\u001b[0m \u001b[32m━━━━━━━━━━━━━━━━━━━━\u001b[0m\u001b[37m\u001b[0m \u001b[1m0s\u001b[0m 4ms/step - accuracy: 0.9958 - loss: 0.0141 - val_accuracy: 0.9806 - val_loss: 0.0891\n",
      "Epoch 21/50\n",
      "\u001b[1m45/45\u001b[0m \u001b[32m━━━━━━━━━━━━━━━━━━━━\u001b[0m\u001b[37m\u001b[0m \u001b[1m0s\u001b[0m 3ms/step - accuracy: 0.9979 - loss: 0.0141 - val_accuracy: 0.9778 - val_loss: 0.0830\n",
      "Epoch 22/50\n",
      "\u001b[1m45/45\u001b[0m \u001b[32m━━━━━━━━━━━━━━━━━━━━\u001b[0m\u001b[37m\u001b[0m \u001b[1m0s\u001b[0m 4ms/step - accuracy: 0.9965 - loss: 0.0154 - val_accuracy: 0.9806 - val_loss: 0.0826\n",
      "Epoch 23/50\n",
      "\u001b[1m45/45\u001b[0m \u001b[32m━━━━━━━━━━━━━━━━━━━━\u001b[0m\u001b[37m\u001b[0m \u001b[1m0s\u001b[0m 5ms/step - accuracy: 0.9972 - loss: 0.0129 - val_accuracy: 0.9806 - val_loss: 0.0838\n",
      "Epoch 24/50\n",
      "\u001b[1m45/45\u001b[0m \u001b[32m━━━━━━━━━━━━━━━━━━━━\u001b[0m\u001b[37m\u001b[0m \u001b[1m0s\u001b[0m 3ms/step - accuracy: 0.9986 - loss: 0.0088 - val_accuracy: 0.9806 - val_loss: 0.0835\n",
      "Epoch 25/50\n",
      "\u001b[1m45/45\u001b[0m \u001b[32m━━━━━━━━━━━━━━━━━━━━\u001b[0m\u001b[37m\u001b[0m \u001b[1m0s\u001b[0m 3ms/step - accuracy: 0.9993 - loss: 0.0084 - val_accuracy: 0.9833 - val_loss: 0.0871\n",
      "Epoch 26/50\n",
      "\u001b[1m45/45\u001b[0m \u001b[32m━━━━━━━━━━━━━━━━━━━━\u001b[0m\u001b[37m\u001b[0m \u001b[1m0s\u001b[0m 3ms/step - accuracy: 1.0000 - loss: 0.0082 - val_accuracy: 0.9806 - val_loss: 0.0844\n",
      "Epoch 27/50\n",
      "\u001b[1m45/45\u001b[0m \u001b[32m━━━━━━━━━━━━━━━━━━━━\u001b[0m\u001b[37m\u001b[0m \u001b[1m0s\u001b[0m 3ms/step - accuracy: 0.9986 - loss: 0.0075 - val_accuracy: 0.9833 - val_loss: 0.0843\n",
      "Epoch 28/50\n",
      "\u001b[1m45/45\u001b[0m \u001b[32m━━━━━━━━━━━━━━━━━━━━\u001b[0m\u001b[37m\u001b[0m \u001b[1m0s\u001b[0m 3ms/step - accuracy: 1.0000 - loss: 0.0069 - val_accuracy: 0.9833 - val_loss: 0.0821\n",
      "Epoch 29/50\n",
      "\u001b[1m45/45\u001b[0m \u001b[32m━━━━━━━━━━━━━━━━━━━━\u001b[0m\u001b[37m\u001b[0m \u001b[1m0s\u001b[0m 3ms/step - accuracy: 1.0000 - loss: 0.0052 - val_accuracy: 0.9806 - val_loss: 0.0895\n"
     ]
    }
   ],
   "source": [
    "# Tambahkan callback untuk berhenti lebih awal\n",
    "early_stopping = tf.keras.callbacks.EarlyStopping(\n",
    "    monitor='val_accuracy', \n",
    "    patience=10, \n",
    "    restore_best_weights=True\n",
    ")\n",
    "\n",
    "# Latih model\n",
    "history = model.fit(\n",
    "    X_train_processed,\n",
    "    y_train,\n",
    "    epochs=50,  \n",
    "    validation_data=(X_val_processed, y_val),\n",
    "    callbacks=[early_stopping],\n",
    "    verbose=1\n",
    ")"
   ]
  },
  {
   "cell_type": "markdown",
   "id": "444fc755-4335-49eb-a466-9a3d0734ff67",
   "metadata": {},
   "source": [
    "## Hasil\n",
    "**Akurasi Training**: Mencapai `100%`.\n",
    "**Akurasi Validasi**: Mencapai puncaknya di `98.33%`.\n",
    "\n",
    "**Performa Model (Sangat Baik)**: Model Anda belajar dengan sangat cepat dan efektif. Hanya dalam 3 epoch, akurasi training (accuracy) dan validasi (val_accuracy) sudah melampaui `93%`. Ini membuktikan `bahwa arsitektur model (128, 64, Dropout(0.2)) sangat cocok untuk dataset load_digits` ini.\n",
    "\n",
    "Overfitting (Sangat Rendah):\n",
    "Akurasi training (100%) dan validasi (98.33%) nilainya sangat berdekatan. Ini menunjukkan model Anda menggeneralisasi dengan sangat baik dan hampir tidak ada overfitting yang berbahaya.\n",
    "\n",
    "val_loss (loss validasi) juga sangat rendah (sekitar 0.08) dan stabil, tidak naik."
   ]
  },
  {
   "cell_type": "markdown",
   "id": "1fbac7cb",
   "metadata": {},
   "source": [
    "## 6. Evaluasi Model\n",
    "\n",
    "Model.evaluate` dan `matplotlib` akan otomatis bekerja dengan benar untuk hasil multiclass."
   ]
  },
  {
   "cell_type": "code",
   "execution_count": 9,
   "id": "85475da0",
   "metadata": {},
   "outputs": [
    {
     "name": "stdout",
     "output_type": "stream",
     "text": [
      "\n",
      "--- Hasil Akhir ---\n",
      "Akurasi Training (Epoch Terbaik): 99.86%\n",
      "Akurasi Validasi (Epoch Terbaik): 98.33%\n"
     ]
    },
    {
     "data": {
      "image/png": "[encoded data removed]",
      "text/plain": [
       "<Figure size 1200x500 with 2 Axes>"
      ]
     },
     "metadata": {},
     "output_type": "display_data"
    }
   ],
   "source": [
    "# 1. Evaluasi pada data validasi\n",
    "val_loss, val_accuracy = model.evaluate(X_val_processed, y_val, verbose=0)\n",
    "\n",
    "# 2. Ambil akurasi training dari epoch terbaik (lebih akurat)\n",
    "if history.epoch:\n",
    "    train_accuracy = history.history['accuracy'][early_stopping.best_epoch]\n",
    "else:\n",
    "    train_accuracy = history.history['accuracy'][-1] # Fallback jika epoch kosong\n",
    "\n",
    "print(\"\\n--- Hasil Akhir ---\")\n",
    "print(f\"Akurasi Training (Epoch Terbaik): {train_accuracy * 100:.2f}%\")\n",
    "print(f\"Akurasi Validasi (Epoch Terbaik): {val_accuracy * 100:.2f}%\")\n",
    "\n",
    "# 3. Plot riwayat training\n",
    "plt.figure(figsize=(12, 5))\n",
    "\n",
    "# Plot Akurasi\n",
    "plt.subplot(1, 2, 1)\n",
    "plt.plot(history.history['accuracy'], label='Training Accuracy')\n",
    "plt.plot(history.history['val_accuracy'], label='Validation Accuracy')\n",
    "plt.title('Training and Validation Accuracy')\n",
    "plt.axhline(y=0.7, color='r', linestyle='--', label='Target 70%')\n",
    "plt.legend()\n",
    "plt.xlabel('Epoch')\n",
    "plt.ylabel('Accuracy')\n",
    "\n",
    "# Plot Loss\n",
    "plt.subplot(1, 2, 2)\n",
    "plt.plot(history.history['loss'], label='Training Loss')\n",
    "plt.plot(history.history['val_loss'], label='Validation Loss')\n",
    "plt.title('Training and Validation Loss')\n",
    "plt.legend()\n",
    "plt.xlabel('Epoch')\n",
    "plt.ylabel('Loss')\n",
    "\n",
    "plt.tight_layout()\n",
    "plt.show()"
   ]
  },
  {
   "cell_type": "code",
   "execution_count": null,
   "id": "3fed4403-1115-49b9-a797-4c622e828512",
   "metadata": {},
   "outputs": [],
   "source": []
  }
 ],
 "metadata": {
  "kernelspec": {
   "display_name": "Andhika_034",
   "language": "python",
   "name": "andhika_034"
  },
  "language_info": {
   "codemirror_mode": {
    "name": "ipython",
    "version": 3
   },
   "file_extension": ".py",
   "mimetype": "text/x-python",
   "name": "python",
   "nbconvert_exporter": "python",
   "pygments_lexer": "ipython3",
   "version": "3.10.7"
  }
 },
 "nbformat": 4,
 "nbformat_minor": 5
}
